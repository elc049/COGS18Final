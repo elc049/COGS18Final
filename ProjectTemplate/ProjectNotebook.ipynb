{
 "cells": [
  {
   "cell_type": "raw",
   "metadata": {},
   "source": [
    "## Animal Agents\n"
   ]
  },
  {
   "cell_type": "markdown",
   "metadata": {},
   "source": [
    "For this project, I used artificial agents to create an \"ecosystem\" where multiple animals (butterflies, birds, and snakes) can be inserted. Each animal has its own method of moving around the board, but when some animals' paths intersect, one of them is eaten and disappears. The animals can be started at different positions and multiple of each animal can be added to find the animal kingdom champion."
   ]
  },
  {
   "cell_type": "markdown",
   "metadata": {},
   "source": [
    "## Project Code : This project is available on GitHub!\n",
    "\n",
    "Username: elc049\n",
    "https://github.com/elc049/COGS18Final"
   ]
  },
  {
   "cell_type": "code",
   "execution_count": 4,
   "metadata": {},
   "outputs": [
    {
     "name": "stdout",
     "output_type": "stream",
     "text": [
      ". . . . .\n",
      ". . . . .\n",
      ". . ʞ . ͝\n",
      ". . . . .\n",
      "گ . . . .\n"
     ]
    }
   ],
   "source": [
    "# Imports\n",
    "from my_module.functions import Animal, Butterfly, Bird, Snake, add_lists, check_bounds, play_board\n",
    "\n",
    "\n",
    "# Although any combination of inputs can be taken through this list, for the sake of an example here is a board where\n",
    "# only one bird gets eaten, resulting in a snake, a bird, and a butterfly that all do not interact\n",
    "\n",
    "animals = [Snake(), Bird(), Bird(position = [2,2]), Butterfly(position = [2,4])]\n",
    "play_board(animals)"
   ]
  },
  {
   "cell_type": "code",
   "execution_count": null,
   "metadata": {},
   "outputs": [],
   "source": []
  }
 ],
 "metadata": {
  "kernelspec": {
   "display_name": "Python 3",
   "language": "python",
   "name": "python3"
  },
  "language_info": {
   "codemirror_mode": {
    "name": "ipython",
    "version": 3
   },
   "file_extension": ".py",
   "mimetype": "text/x-python",
   "name": "python",
   "nbconvert_exporter": "python",
   "pygments_lexer": "ipython3",
   "version": "3.6.5"
  }
 },
 "nbformat": 4,
 "nbformat_minor": 2
}
